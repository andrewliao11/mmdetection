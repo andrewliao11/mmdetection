{
 "cells": [
  {
   "cell_type": "code",
   "execution_count": 1,
   "metadata": {},
   "outputs": [],
   "source": [
    "import plotly.graph_objects as go\n",
    "from plotly.subplots import make_subplots\n",
    "import plotly.express as px\n",
    "\n",
    "colors = px.colors.qualitative.Plotly"
   ]
  },
  {
   "cell_type": "code",
   "execution_count": 2,
   "metadata": {},
   "outputs": [],
   "source": [
    "import os\n",
    "import numpy as np\n",
    "from pathlib import Path"
   ]
  },
  {
   "cell_type": "code",
   "execution_count": 3,
   "metadata": {},
   "outputs": [],
   "source": [
    "def extract_values(p):\n",
    "    avg_precision = []\n",
    "    avg_recall = []\n",
    "    with open(p) as f:\n",
    "        cont = f.read()\n",
    "        lines = cont.split(\"\\n\")\n",
    "        for l in lines:\n",
    "            if \"Average Precision  (AP) @[ IoU=0.50:0.95 | area=   all | maxDets=100 ]\" in l:\n",
    "                v = float(l.split(\"] = \")[-1])\n",
    "                avg_precision.append(v)\n",
    "            if \"Average Recall     (AR) @[ IoU=0.50:0.95 | area=   all | maxDets=100 ]\" in l:\n",
    "                v = float(l.split(\"] = \")[-1])\n",
    "                avg_recall.append(v)\n",
    "    return avg_precision, avg_recall"
   ]
  },
  {
   "cell_type": "code",
   "execution_count": 14,
   "metadata": {},
   "outputs": [],
   "source": [
    "dir = Path(\"/home/andliao/results\")\n",
    "\n",
    "ngc_id = {\n",
    "    2838350: \"T\", \n",
    "    2838351: \"S + T\",\n",
    "    2838352: \"S\", \n",
    "    2838290: \"shift-30-left\",\n",
    "    2838292: \"shift-60-left\",\n",
    "    2838293: \"shift-30-up\",\n",
    "    2838294: \"shift-60-up\",\n",
    "    2838295: \"scale-20-up\",\n",
    "    2838296: \"scale-20-down\",\n",
    "}\n",
    "\n",
    "data = {}\n",
    "for id, name in ngc_id.items():\n",
    "\n",
    "    ps = list((dir / str(id)).glob(\"2022*log\"))\n",
    "    if len(ps) > 0:\n",
    "        p = sorted(ps)[-1]\n",
    "\n",
    "        avg_precision, avg_recall = extract_values(p)\n",
    "        data[name] = [avg_precision, avg_recall]\n",
    "\n",
    "    ps = list((dir / str(id)).glob(\"*.pth\"))\n",
    "    for p in ps:\n",
    "        cmd = f\"rm {p}\"\n",
    "        os.system(cmd)"
   ]
  },
  {
   "cell_type": "code",
   "execution_count": 17,
   "metadata": {},
   "outputs": [
    {
     "name": "stdout",
     "output_type": "stream",
     "text": [
      "T 0.372 0.463\n",
      "S + T 0.366 0.476\n",
      "S 0.054 0.182\n",
      "shift-30-left 0.391 0.515\n",
      "shift-60-left 0.315 0.446\n",
      "shift-30-up 0.371 0.467\n",
      "shift-60-up 0.371 0.476\n",
      "scale-20-up 0.429 0.528\n",
      "scale-20-down 0.361 0.475\n"
     ]
    }
   ],
   "source": [
    "fig = make_subplots(rows=1, cols=2, shared_xaxes=True, subplot_titles=(\"Target AP\", \"Target AR\"))\n",
    "\n",
    "for i, (name, values) in enumerate(data.items()):\n",
    "\n",
    "    avg_precision, avg_recall = values\n",
    "    trace = go.Scatter(x=8*np.arange(len(avg_precision)), y=avg_precision, name=name, showlegend=True, mode=\"lines\", line=dict(color=colors[i]))\n",
    "    fig.add_trace(trace, row=1, col=1)\n",
    "    \n",
    "    trace = go.Scatter(x=8*np.arange(len(avg_recall)), y=avg_recall, name=name, showlegend=False, mode=\"lines\", line=dict(color=colors[i]))\n",
    "    fig.add_trace(trace, row=1, col=2)\n",
    "\n",
    "    print(name, avg_precision[-1], avg_recall[-1])"
   ]
  },
  {
   "cell_type": "code",
   "execution_count": 16,
   "metadata": {},
   "outputs": [
    {
     "data": {
      "application/vnd.plotly.v1+json": {
       "config": {
        "plotlyServerURL": "https://plot.ly"
       },
       "data": [
        {
         "line": {
          "color": "#636EFA"
         },
         "mode": "lines",
         "name": "T",
         "showlegend": true,
         "type": "scatter",
         "x": [
          0,
          8,
          16,
          24,
          32,
          40,
          48,
          56,
          64,
          72,
          80,
          88,
          96,
          104,
          112,
          120,
          128,
          136,
          144,
          152,
          160,
          168,
          176,
          184,
          192,
          200,
          208,
          216,
          224,
          232,
          240,
          248,
          256,
          264,
          272,
          280,
          288,
          296,
          304,
          312,
          320,
          328,
          336,
          344,
          352,
          360,
          368,
          376,
          384,
          392,
          400,
          408,
          416,
          424,
          432,
          440,
          448,
          456,
          464,
          472,
          480,
          488,
          496,
          504,
          512,
          520,
          528,
          536,
          544,
          552,
          560,
          568,
          576,
          584,
          592,
          600,
          608,
          616,
          624,
          632,
          640,
          648,
          656,
          664,
          672,
          680,
          688,
          696,
          704,
          712,
          720,
          728,
          736,
          744,
          752,
          760,
          768,
          776,
          784,
          792
         ],
         "xaxis": "x",
         "y": [
          0,
          0.001,
          0.003,
          0.007,
          0.011,
          0.018,
          0.017,
          0.035,
          0.042,
          0.07,
          0.079,
          0.098,
          0.109,
          0.087,
          0.118,
          0.144,
          0.134,
          0.153,
          0.185,
          0.191,
          0.173,
          0.188,
          0.231,
          0.226,
          0.22,
          0.225,
          0.236,
          0.264,
          0.257,
          0.232,
          0.302,
          0.285,
          0.272,
          0.25,
          0.288,
          0.291,
          0.319,
          0.278,
          0.296,
          0.33,
          0.333,
          0.324,
          0.334,
          0.33,
          0.329,
          0.313,
          0.35,
          0.356,
          0.329,
          0.372,
          0.332,
          0.336,
          0.348,
          0.347,
          0.35,
          0.374,
          0.358,
          0.375,
          0.339,
          0.358,
          0.359,
          0.372,
          0.369,
          0.36,
          0.341,
          0.382,
          0.397,
          0.371,
          0.37,
          0.387,
          0.379,
          0.362,
          0.393,
          0.379,
          0.397,
          0.397,
          0.371,
          0.403,
          0.349,
          0.379,
          0.41,
          0.397,
          0.362,
          0.402,
          0.416,
          0.393,
          0.389,
          0.415,
          0.401,
          0.373,
          0.38,
          0.371,
          0.405,
          0.402,
          0.403,
          0.395,
          0.42,
          0.398,
          0.417,
          0.372
         ],
         "yaxis": "y"
        },
        {
         "line": {
          "color": "#636EFA"
         },
         "mode": "lines",
         "name": "T",
         "showlegend": false,
         "type": "scatter",
         "x": [
          0,
          8,
          16,
          24,
          32,
          40,
          48,
          56,
          64,
          72,
          80,
          88,
          96,
          104,
          112,
          120,
          128,
          136,
          144,
          152,
          160,
          168,
          176,
          184,
          192,
          200,
          208,
          216,
          224,
          232,
          240,
          248,
          256,
          264,
          272,
          280,
          288,
          296,
          304,
          312,
          320,
          328,
          336,
          344,
          352,
          360,
          368,
          376,
          384,
          392,
          400,
          408,
          416,
          424,
          432,
          440,
          448,
          456,
          464,
          472,
          480,
          488,
          496,
          504,
          512,
          520,
          528,
          536,
          544,
          552,
          560,
          568,
          576,
          584,
          592,
          600,
          608,
          616,
          624,
          632,
          640,
          648,
          656,
          664,
          672,
          680,
          688,
          696,
          704,
          712,
          720,
          728,
          736,
          744,
          752,
          760,
          768,
          776,
          784,
          792
         ],
         "xaxis": "x2",
         "y": [
          0.001,
          0.016,
          0.056,
          0.122,
          0.168,
          0.19,
          0.171,
          0.223,
          0.234,
          0.277,
          0.255,
          0.278,
          0.281,
          0.211,
          0.287,
          0.339,
          0.343,
          0.352,
          0.371,
          0.382,
          0.349,
          0.364,
          0.412,
          0.389,
          0.399,
          0.403,
          0.352,
          0.421,
          0.399,
          0.375,
          0.428,
          0.412,
          0.408,
          0.385,
          0.422,
          0.429,
          0.434,
          0.39,
          0.412,
          0.438,
          0.437,
          0.439,
          0.446,
          0.445,
          0.435,
          0.423,
          0.465,
          0.461,
          0.444,
          0.475,
          0.452,
          0.437,
          0.449,
          0.442,
          0.45,
          0.479,
          0.466,
          0.482,
          0.432,
          0.455,
          0.454,
          0.469,
          0.47,
          0.458,
          0.442,
          0.481,
          0.498,
          0.476,
          0.471,
          0.483,
          0.475,
          0.459,
          0.493,
          0.476,
          0.488,
          0.492,
          0.469,
          0.497,
          0.454,
          0.484,
          0.504,
          0.496,
          0.459,
          0.492,
          0.508,
          0.476,
          0.492,
          0.508,
          0.493,
          0.467,
          0.468,
          0.465,
          0.494,
          0.495,
          0.498,
          0.483,
          0.506,
          0.481,
          0.506,
          0.463
         ],
         "yaxis": "y2"
        },
        {
         "line": {
          "color": "#EF553B"
         },
         "mode": "lines",
         "name": "S + T",
         "showlegend": true,
         "type": "scatter",
         "x": [
          0,
          8,
          16,
          24,
          32,
          40,
          48,
          56,
          64,
          72,
          80,
          88,
          96,
          104,
          112,
          120,
          128,
          136,
          144,
          152,
          160,
          168,
          176
         ],
         "xaxis": "x",
         "y": [
          0.007,
          0.058,
          0.076,
          0.072,
          0.149,
          0.162,
          0.195,
          0.219,
          0.237,
          0.257,
          0.301,
          0.299,
          0.287,
          0.327,
          0.279,
          0.319,
          0.346,
          0.31,
          0.354,
          0.345,
          0.341,
          0.326,
          0.366
         ],
         "yaxis": "y"
        },
        {
         "line": {
          "color": "#EF553B"
         },
         "mode": "lines",
         "name": "S + T",
         "showlegend": false,
         "type": "scatter",
         "x": [
          0,
          8,
          16,
          24,
          32,
          40,
          48,
          56,
          64,
          72,
          80,
          88,
          96,
          104,
          112,
          120,
          128,
          136,
          144,
          152,
          160,
          168,
          176
         ],
         "xaxis": "x2",
         "y": [
          0.108,
          0.24,
          0.235,
          0.223,
          0.332,
          0.301,
          0.348,
          0.352,
          0.368,
          0.376,
          0.437,
          0.406,
          0.397,
          0.452,
          0.41,
          0.426,
          0.454,
          0.424,
          0.466,
          0.464,
          0.455,
          0.43,
          0.476
         ],
         "yaxis": "y2"
        },
        {
         "line": {
          "color": "#00CC96"
         },
         "mode": "lines",
         "name": "S",
         "showlegend": true,
         "type": "scatter",
         "x": [
          0,
          8,
          16,
          24,
          32,
          40,
          48,
          56,
          64,
          72,
          80,
          88,
          96,
          104,
          112,
          120,
          128,
          136,
          144,
          152,
          160,
          168,
          176,
          184,
          192,
          200,
          208,
          216,
          224,
          232,
          240,
          248
         ],
         "xaxis": "x",
         "y": [
          0,
          0.001,
          0.003,
          0.004,
          0.003,
          0.004,
          0.021,
          0.015,
          0.016,
          0.032,
          0.03,
          0.015,
          0.03,
          0.048,
          0.036,
          0.068,
          0.031,
          0.033,
          0.029,
          0.055,
          0.045,
          0.055,
          0.033,
          0.067,
          0.075,
          0.051,
          0.076,
          0.06,
          0.045,
          0.061,
          0.052,
          0.054
         ],
         "yaxis": "y"
        },
        {
         "line": {
          "color": "#00CC96"
         },
         "mode": "lines",
         "name": "S",
         "showlegend": false,
         "type": "scatter",
         "x": [
          0,
          8,
          16,
          24,
          32,
          40,
          48,
          56,
          64,
          72,
          80,
          88,
          96,
          104,
          112,
          120,
          128,
          136,
          144,
          152,
          160,
          168,
          176,
          184,
          192,
          200,
          208,
          216,
          224,
          232,
          240,
          248
         ],
         "xaxis": "x2",
         "y": [
          0.019,
          0.057,
          0.039,
          0.057,
          0.042,
          0.068,
          0.123,
          0.073,
          0.116,
          0.152,
          0.128,
          0.109,
          0.151,
          0.136,
          0.15,
          0.184,
          0.114,
          0.138,
          0.113,
          0.189,
          0.145,
          0.164,
          0.118,
          0.197,
          0.19,
          0.155,
          0.186,
          0.163,
          0.134,
          0.168,
          0.158,
          0.182
         ],
         "yaxis": "y2"
        },
        {
         "line": {
          "color": "#AB63FA"
         },
         "mode": "lines",
         "name": "shift-30-left",
         "showlegend": true,
         "type": "scatter",
         "x": [
          0,
          8,
          16,
          24,
          32,
          40,
          48,
          56,
          64,
          72,
          80,
          88,
          96,
          104,
          112,
          120,
          128,
          136,
          144,
          152,
          160,
          168,
          176,
          184
         ],
         "xaxis": "x",
         "y": [
          0.005,
          0.025,
          0.039,
          0.066,
          0.112,
          0.186,
          0.146,
          0.229,
          0.228,
          0.273,
          0.277,
          0.252,
          0.264,
          0.286,
          0.303,
          0.317,
          0.336,
          0.306,
          0.33,
          0.327,
          0.363,
          0.327,
          0.34,
          0.391
         ],
         "yaxis": "y"
        },
        {
         "line": {
          "color": "#AB63FA"
         },
         "mode": "lines",
         "name": "shift-30-left",
         "showlegend": false,
         "type": "scatter",
         "x": [
          0,
          8,
          16,
          24,
          32,
          40,
          48,
          56,
          64,
          72,
          80,
          88,
          96,
          104,
          112,
          120,
          128,
          136,
          144,
          152,
          160,
          168,
          176,
          184
         ],
         "xaxis": "x2",
         "y": [
          0.08,
          0.217,
          0.237,
          0.219,
          0.249,
          0.347,
          0.333,
          0.389,
          0.384,
          0.402,
          0.413,
          0.373,
          0.397,
          0.413,
          0.433,
          0.438,
          0.456,
          0.426,
          0.44,
          0.444,
          0.476,
          0.457,
          0.456,
          0.515
         ],
         "yaxis": "y2"
        },
        {
         "line": {
          "color": "#FFA15A"
         },
         "mode": "lines",
         "name": "shift-60-left",
         "showlegend": true,
         "type": "scatter",
         "x": [
          0,
          8,
          16,
          24,
          32,
          40,
          48,
          56,
          64,
          72,
          80,
          88,
          96,
          104,
          112,
          120,
          128,
          136,
          144,
          152,
          160,
          168,
          176,
          184
         ],
         "xaxis": "x",
         "y": [
          0.007,
          0.014,
          0.04,
          0.083,
          0.117,
          0.139,
          0.145,
          0.1,
          0.21,
          0.258,
          0.221,
          0.231,
          0.241,
          0.272,
          0.281,
          0.259,
          0.31,
          0.309,
          0.298,
          0.298,
          0.339,
          0.3,
          0.303,
          0.315
         ],
         "yaxis": "y"
        },
        {
         "line": {
          "color": "#FFA15A"
         },
         "mode": "lines",
         "name": "shift-60-left",
         "showlegend": false,
         "type": "scatter",
         "x": [
          0,
          8,
          16,
          24,
          32,
          40,
          48,
          56,
          64,
          72,
          80,
          88,
          96,
          104,
          112,
          120,
          128,
          136,
          144,
          152,
          160,
          168,
          176,
          184
         ],
         "xaxis": "x2",
         "y": [
          0.126,
          0.187,
          0.227,
          0.244,
          0.311,
          0.33,
          0.281,
          0.264,
          0.373,
          0.424,
          0.357,
          0.373,
          0.392,
          0.445,
          0.421,
          0.394,
          0.463,
          0.445,
          0.403,
          0.42,
          0.472,
          0.416,
          0.414,
          0.446
         ],
         "yaxis": "y2"
        },
        {
         "line": {
          "color": "#19D3F3"
         },
         "mode": "lines",
         "name": "shift-30-up",
         "showlegend": true,
         "type": "scatter",
         "x": [
          0,
          8,
          16,
          24,
          32,
          40,
          48,
          56,
          64,
          72,
          80,
          88,
          96,
          104,
          112,
          120,
          128,
          136,
          144,
          152,
          160,
          168,
          176
         ],
         "xaxis": "x",
         "y": [
          0.005,
          0.03,
          0.068,
          0.088,
          0.127,
          0.132,
          0.177,
          0.17,
          0.235,
          0.289,
          0.279,
          0.29,
          0.252,
          0.31,
          0.327,
          0.353,
          0.319,
          0.361,
          0.356,
          0.339,
          0.367,
          0.394,
          0.371
         ],
         "yaxis": "y"
        },
        {
         "line": {
          "color": "#19D3F3"
         },
         "mode": "lines",
         "name": "shift-30-up",
         "showlegend": false,
         "type": "scatter",
         "x": [
          0,
          8,
          16,
          24,
          32,
          40,
          48,
          56,
          64,
          72,
          80,
          88,
          96,
          104,
          112,
          120,
          128,
          136,
          144,
          152,
          160,
          168,
          176
         ],
         "xaxis": "x2",
         "y": [
          0.104,
          0.213,
          0.232,
          0.276,
          0.319,
          0.317,
          0.312,
          0.325,
          0.36,
          0.416,
          0.393,
          0.408,
          0.376,
          0.437,
          0.437,
          0.476,
          0.447,
          0.465,
          0.469,
          0.461,
          0.488,
          0.515,
          0.467
         ],
         "yaxis": "y2"
        },
        {
         "line": {
          "color": "#FF6692"
         },
         "mode": "lines",
         "name": "shift-60-up",
         "showlegend": true,
         "type": "scatter",
         "x": [
          0,
          8,
          16,
          24,
          32,
          40,
          48,
          56,
          64,
          72,
          80,
          88,
          96,
          104,
          112,
          120,
          128,
          136,
          144,
          152,
          160,
          168,
          176,
          184
         ],
         "xaxis": "x",
         "y": [
          0.007,
          0.037,
          0.085,
          0.104,
          0.137,
          0.174,
          0.205,
          0.224,
          0.261,
          0.287,
          0.301,
          0.325,
          0.312,
          0.315,
          0.366,
          0.348,
          0.363,
          0.339,
          0.367,
          0.348,
          0.389,
          0.394,
          0.405,
          0.371
         ],
         "yaxis": "y"
        },
        {
         "line": {
          "color": "#FF6692"
         },
         "mode": "lines",
         "name": "shift-60-up",
         "showlegend": false,
         "type": "scatter",
         "x": [
          0,
          8,
          16,
          24,
          32,
          40,
          48,
          56,
          64,
          72,
          80,
          88,
          96,
          104,
          112,
          120,
          128,
          136,
          144,
          152,
          160,
          168,
          176,
          184
         ],
         "xaxis": "x2",
         "y": [
          0.115,
          0.211,
          0.257,
          0.295,
          0.307,
          0.339,
          0.354,
          0.381,
          0.404,
          0.426,
          0.423,
          0.453,
          0.435,
          0.444,
          0.492,
          0.457,
          0.475,
          0.444,
          0.465,
          0.463,
          0.495,
          0.497,
          0.509,
          0.476
         ],
         "yaxis": "y2"
        },
        {
         "line": {
          "color": "#B6E880"
         },
         "mode": "lines",
         "name": "scale-20-up",
         "showlegend": true,
         "type": "scatter",
         "x": [
          0,
          8,
          16,
          24,
          32,
          40,
          48,
          56,
          64,
          72,
          80,
          88,
          96,
          104,
          112,
          120,
          128,
          136,
          144,
          152,
          160,
          168,
          176,
          184
         ],
         "xaxis": "x",
         "y": [
          0.011,
          0.036,
          0.084,
          0.09,
          0.186,
          0.201,
          0.238,
          0.215,
          0.257,
          0.275,
          0.313,
          0.298,
          0.332,
          0.331,
          0.312,
          0.36,
          0.347,
          0.364,
          0.367,
          0.356,
          0.355,
          0.395,
          0.377,
          0.429
         ],
         "yaxis": "y"
        },
        {
         "line": {
          "color": "#B6E880"
         },
         "mode": "lines",
         "name": "scale-20-up",
         "showlegend": false,
         "type": "scatter",
         "x": [
          0,
          8,
          16,
          24,
          32,
          40,
          48,
          56,
          64,
          72,
          80,
          88,
          96,
          104,
          112,
          120,
          128,
          136,
          144,
          152,
          160,
          168,
          176,
          184
         ],
         "xaxis": "x2",
         "y": [
          0.119,
          0.209,
          0.271,
          0.228,
          0.339,
          0.344,
          0.378,
          0.35,
          0.374,
          0.386,
          0.434,
          0.412,
          0.45,
          0.44,
          0.409,
          0.485,
          0.459,
          0.481,
          0.478,
          0.446,
          0.466,
          0.502,
          0.485,
          0.528
         ],
         "yaxis": "y2"
        },
        {
         "line": {
          "color": "#FF97FF"
         },
         "mode": "lines",
         "name": "scale-20-down",
         "showlegend": true,
         "type": "scatter",
         "x": [
          0,
          8,
          16,
          24,
          32,
          40,
          48,
          56,
          64,
          72,
          80,
          88,
          96,
          104,
          112,
          120,
          128,
          136,
          144,
          152,
          160,
          168,
          176,
          184
         ],
         "xaxis": "x",
         "y": [
          0.008,
          0.026,
          0.066,
          0.108,
          0.113,
          0.172,
          0.217,
          0.199,
          0.2,
          0.237,
          0.254,
          0.27,
          0.275,
          0.272,
          0.252,
          0.301,
          0.267,
          0.347,
          0.314,
          0.344,
          0.32,
          0.349,
          0.318,
          0.361
         ],
         "yaxis": "y"
        },
        {
         "line": {
          "color": "#FF97FF"
         },
         "mode": "lines",
         "name": "scale-20-down",
         "showlegend": false,
         "type": "scatter",
         "x": [
          0,
          8,
          16,
          24,
          32,
          40,
          48,
          56,
          64,
          72,
          80,
          88,
          96,
          104,
          112,
          120,
          128,
          136,
          144,
          152,
          160,
          168,
          176,
          184
         ],
         "xaxis": "x2",
         "y": [
          0.128,
          0.179,
          0.262,
          0.277,
          0.282,
          0.353,
          0.406,
          0.373,
          0.343,
          0.368,
          0.392,
          0.395,
          0.399,
          0.412,
          0.397,
          0.421,
          0.377,
          0.467,
          0.424,
          0.454,
          0.439,
          0.469,
          0.433,
          0.475
         ],
         "yaxis": "y2"
        }
       ],
       "layout": {
        "annotations": [
         {
          "font": {
           "size": 16
          },
          "showarrow": false,
          "text": "Target AP",
          "x": 0.225,
          "xanchor": "center",
          "xref": "paper",
          "y": 1,
          "yanchor": "bottom",
          "yref": "paper"
         },
         {
          "font": {
           "size": 16
          },
          "showarrow": false,
          "text": "Target AR",
          "x": 0.775,
          "xanchor": "center",
          "xref": "paper",
          "y": 1,
          "yanchor": "bottom",
          "yref": "paper"
         }
        ],
        "height": 400,
        "legend": {
         "orientation": "h",
         "x": 0.1,
         "y": 1.45
        },
        "margin": {
         "b": 30,
         "l": 30,
         "r": 10,
         "t": 50
        },
        "template": {
         "data": {
          "bar": [
           {
            "error_x": {
             "color": "#2a3f5f"
            },
            "error_y": {
             "color": "#2a3f5f"
            },
            "marker": {
             "line": {
              "color": "white",
              "width": 0.5
             },
             "pattern": {
              "fillmode": "overlay",
              "size": 10,
              "solidity": 0.2
             }
            },
            "type": "bar"
           }
          ],
          "barpolar": [
           {
            "marker": {
             "line": {
              "color": "white",
              "width": 0.5
             },
             "pattern": {
              "fillmode": "overlay",
              "size": 10,
              "solidity": 0.2
             }
            },
            "type": "barpolar"
           }
          ],
          "carpet": [
           {
            "aaxis": {
             "endlinecolor": "#2a3f5f",
             "gridcolor": "#C8D4E3",
             "linecolor": "#C8D4E3",
             "minorgridcolor": "#C8D4E3",
             "startlinecolor": "#2a3f5f"
            },
            "baxis": {
             "endlinecolor": "#2a3f5f",
             "gridcolor": "#C8D4E3",
             "linecolor": "#C8D4E3",
             "minorgridcolor": "#C8D4E3",
             "startlinecolor": "#2a3f5f"
            },
            "type": "carpet"
           }
          ],
          "choropleth": [
           {
            "colorbar": {
             "outlinewidth": 0,
             "ticks": ""
            },
            "type": "choropleth"
           }
          ],
          "contour": [
           {
            "colorbar": {
             "outlinewidth": 0,
             "ticks": ""
            },
            "colorscale": [
             [
              0,
              "#0d0887"
             ],
             [
              0.1111111111111111,
              "#46039f"
             ],
             [
              0.2222222222222222,
              "#7201a8"
             ],
             [
              0.3333333333333333,
              "#9c179e"
             ],
             [
              0.4444444444444444,
              "#bd3786"
             ],
             [
              0.5555555555555556,
              "#d8576b"
             ],
             [
              0.6666666666666666,
              "#ed7953"
             ],
             [
              0.7777777777777778,
              "#fb9f3a"
             ],
             [
              0.8888888888888888,
              "#fdca26"
             ],
             [
              1,
              "#f0f921"
             ]
            ],
            "type": "contour"
           }
          ],
          "contourcarpet": [
           {
            "colorbar": {
             "outlinewidth": 0,
             "ticks": ""
            },
            "type": "contourcarpet"
           }
          ],
          "heatmap": [
           {
            "colorbar": {
             "outlinewidth": 0,
             "ticks": ""
            },
            "colorscale": [
             [
              0,
              "#0d0887"
             ],
             [
              0.1111111111111111,
              "#46039f"
             ],
             [
              0.2222222222222222,
              "#7201a8"
             ],
             [
              0.3333333333333333,
              "#9c179e"
             ],
             [
              0.4444444444444444,
              "#bd3786"
             ],
             [
              0.5555555555555556,
              "#d8576b"
             ],
             [
              0.6666666666666666,
              "#ed7953"
             ],
             [
              0.7777777777777778,
              "#fb9f3a"
             ],
             [
              0.8888888888888888,
              "#fdca26"
             ],
             [
              1,
              "#f0f921"
             ]
            ],
            "type": "heatmap"
           }
          ],
          "heatmapgl": [
           {
            "colorbar": {
             "outlinewidth": 0,
             "ticks": ""
            },
            "colorscale": [
             [
              0,
              "#0d0887"
             ],
             [
              0.1111111111111111,
              "#46039f"
             ],
             [
              0.2222222222222222,
              "#7201a8"
             ],
             [
              0.3333333333333333,
              "#9c179e"
             ],
             [
              0.4444444444444444,
              "#bd3786"
             ],
             [
              0.5555555555555556,
              "#d8576b"
             ],
             [
              0.6666666666666666,
              "#ed7953"
             ],
             [
              0.7777777777777778,
              "#fb9f3a"
             ],
             [
              0.8888888888888888,
              "#fdca26"
             ],
             [
              1,
              "#f0f921"
             ]
            ],
            "type": "heatmapgl"
           }
          ],
          "histogram": [
           {
            "marker": {
             "pattern": {
              "fillmode": "overlay",
              "size": 10,
              "solidity": 0.2
             }
            },
            "type": "histogram"
           }
          ],
          "histogram2d": [
           {
            "colorbar": {
             "outlinewidth": 0,
             "ticks": ""
            },
            "colorscale": [
             [
              0,
              "#0d0887"
             ],
             [
              0.1111111111111111,
              "#46039f"
             ],
             [
              0.2222222222222222,
              "#7201a8"
             ],
             [
              0.3333333333333333,
              "#9c179e"
             ],
             [
              0.4444444444444444,
              "#bd3786"
             ],
             [
              0.5555555555555556,
              "#d8576b"
             ],
             [
              0.6666666666666666,
              "#ed7953"
             ],
             [
              0.7777777777777778,
              "#fb9f3a"
             ],
             [
              0.8888888888888888,
              "#fdca26"
             ],
             [
              1,
              "#f0f921"
             ]
            ],
            "type": "histogram2d"
           }
          ],
          "histogram2dcontour": [
           {
            "colorbar": {
             "outlinewidth": 0,
             "ticks": ""
            },
            "colorscale": [
             [
              0,
              "#0d0887"
             ],
             [
              0.1111111111111111,
              "#46039f"
             ],
             [
              0.2222222222222222,
              "#7201a8"
             ],
             [
              0.3333333333333333,
              "#9c179e"
             ],
             [
              0.4444444444444444,
              "#bd3786"
             ],
             [
              0.5555555555555556,
              "#d8576b"
             ],
             [
              0.6666666666666666,
              "#ed7953"
             ],
             [
              0.7777777777777778,
              "#fb9f3a"
             ],
             [
              0.8888888888888888,
              "#fdca26"
             ],
             [
              1,
              "#f0f921"
             ]
            ],
            "type": "histogram2dcontour"
           }
          ],
          "mesh3d": [
           {
            "colorbar": {
             "outlinewidth": 0,
             "ticks": ""
            },
            "type": "mesh3d"
           }
          ],
          "parcoords": [
           {
            "line": {
             "colorbar": {
              "outlinewidth": 0,
              "ticks": ""
             }
            },
            "type": "parcoords"
           }
          ],
          "pie": [
           {
            "automargin": true,
            "type": "pie"
           }
          ],
          "scatter": [
           {
            "fillpattern": {
             "fillmode": "overlay",
             "size": 10,
             "solidity": 0.2
            },
            "type": "scatter"
           }
          ],
          "scatter3d": [
           {
            "line": {
             "colorbar": {
              "outlinewidth": 0,
              "ticks": ""
             }
            },
            "marker": {
             "colorbar": {
              "outlinewidth": 0,
              "ticks": ""
             }
            },
            "type": "scatter3d"
           }
          ],
          "scattercarpet": [
           {
            "marker": {
             "colorbar": {
              "outlinewidth": 0,
              "ticks": ""
             }
            },
            "type": "scattercarpet"
           }
          ],
          "scattergeo": [
           {
            "marker": {
             "colorbar": {
              "outlinewidth": 0,
              "ticks": ""
             }
            },
            "type": "scattergeo"
           }
          ],
          "scattergl": [
           {
            "marker": {
             "colorbar": {
              "outlinewidth": 0,
              "ticks": ""
             }
            },
            "type": "scattergl"
           }
          ],
          "scattermapbox": [
           {
            "marker": {
             "colorbar": {
              "outlinewidth": 0,
              "ticks": ""
             }
            },
            "type": "scattermapbox"
           }
          ],
          "scatterpolar": [
           {
            "marker": {
             "colorbar": {
              "outlinewidth": 0,
              "ticks": ""
             }
            },
            "type": "scatterpolar"
           }
          ],
          "scatterpolargl": [
           {
            "marker": {
             "colorbar": {
              "outlinewidth": 0,
              "ticks": ""
             }
            },
            "type": "scatterpolargl"
           }
          ],
          "scatterternary": [
           {
            "marker": {
             "colorbar": {
              "outlinewidth": 0,
              "ticks": ""
             }
            },
            "type": "scatterternary"
           }
          ],
          "surface": [
           {
            "colorbar": {
             "outlinewidth": 0,
             "ticks": ""
            },
            "colorscale": [
             [
              0,
              "#0d0887"
             ],
             [
              0.1111111111111111,
              "#46039f"
             ],
             [
              0.2222222222222222,
              "#7201a8"
             ],
             [
              0.3333333333333333,
              "#9c179e"
             ],
             [
              0.4444444444444444,
              "#bd3786"
             ],
             [
              0.5555555555555556,
              "#d8576b"
             ],
             [
              0.6666666666666666,
              "#ed7953"
             ],
             [
              0.7777777777777778,
              "#fb9f3a"
             ],
             [
              0.8888888888888888,
              "#fdca26"
             ],
             [
              1,
              "#f0f921"
             ]
            ],
            "type": "surface"
           }
          ],
          "table": [
           {
            "cells": {
             "fill": {
              "color": "#EBF0F8"
             },
             "line": {
              "color": "white"
             }
            },
            "header": {
             "fill": {
              "color": "#C8D4E3"
             },
             "line": {
              "color": "white"
             }
            },
            "type": "table"
           }
          ]
         },
         "layout": {
          "annotationdefaults": {
           "arrowcolor": "#2a3f5f",
           "arrowhead": 0,
           "arrowwidth": 1
          },
          "autotypenumbers": "strict",
          "coloraxis": {
           "colorbar": {
            "outlinewidth": 0,
            "ticks": ""
           }
          },
          "colorscale": {
           "diverging": [
            [
             0,
             "#8e0152"
            ],
            [
             0.1,
             "#c51b7d"
            ],
            [
             0.2,
             "#de77ae"
            ],
            [
             0.3,
             "#f1b6da"
            ],
            [
             0.4,
             "#fde0ef"
            ],
            [
             0.5,
             "#f7f7f7"
            ],
            [
             0.6,
             "#e6f5d0"
            ],
            [
             0.7,
             "#b8e186"
            ],
            [
             0.8,
             "#7fbc41"
            ],
            [
             0.9,
             "#4d9221"
            ],
            [
             1,
             "#276419"
            ]
           ],
           "sequential": [
            [
             0,
             "#0d0887"
            ],
            [
             0.1111111111111111,
             "#46039f"
            ],
            [
             0.2222222222222222,
             "#7201a8"
            ],
            [
             0.3333333333333333,
             "#9c179e"
            ],
            [
             0.4444444444444444,
             "#bd3786"
            ],
            [
             0.5555555555555556,
             "#d8576b"
            ],
            [
             0.6666666666666666,
             "#ed7953"
            ],
            [
             0.7777777777777778,
             "#fb9f3a"
            ],
            [
             0.8888888888888888,
             "#fdca26"
            ],
            [
             1,
             "#f0f921"
            ]
           ],
           "sequentialminus": [
            [
             0,
             "#0d0887"
            ],
            [
             0.1111111111111111,
             "#46039f"
            ],
            [
             0.2222222222222222,
             "#7201a8"
            ],
            [
             0.3333333333333333,
             "#9c179e"
            ],
            [
             0.4444444444444444,
             "#bd3786"
            ],
            [
             0.5555555555555556,
             "#d8576b"
            ],
            [
             0.6666666666666666,
             "#ed7953"
            ],
            [
             0.7777777777777778,
             "#fb9f3a"
            ],
            [
             0.8888888888888888,
             "#fdca26"
            ],
            [
             1,
             "#f0f921"
            ]
           ]
          },
          "colorway": [
           "#636efa",
           "#EF553B",
           "#00cc96",
           "#ab63fa",
           "#FFA15A",
           "#19d3f3",
           "#FF6692",
           "#B6E880",
           "#FF97FF",
           "#FECB52"
          ],
          "font": {
           "color": "#2a3f5f"
          },
          "geo": {
           "bgcolor": "white",
           "lakecolor": "white",
           "landcolor": "white",
           "showlakes": true,
           "showland": true,
           "subunitcolor": "#C8D4E3"
          },
          "hoverlabel": {
           "align": "left"
          },
          "hovermode": "closest",
          "mapbox": {
           "style": "light"
          },
          "paper_bgcolor": "white",
          "plot_bgcolor": "white",
          "polar": {
           "angularaxis": {
            "gridcolor": "#EBF0F8",
            "linecolor": "#EBF0F8",
            "ticks": ""
           },
           "bgcolor": "white",
           "radialaxis": {
            "gridcolor": "#EBF0F8",
            "linecolor": "#EBF0F8",
            "ticks": ""
           }
          },
          "scene": {
           "xaxis": {
            "backgroundcolor": "white",
            "gridcolor": "#DFE8F3",
            "gridwidth": 2,
            "linecolor": "#EBF0F8",
            "showbackground": true,
            "ticks": "",
            "zerolinecolor": "#EBF0F8"
           },
           "yaxis": {
            "backgroundcolor": "white",
            "gridcolor": "#DFE8F3",
            "gridwidth": 2,
            "linecolor": "#EBF0F8",
            "showbackground": true,
            "ticks": "",
            "zerolinecolor": "#EBF0F8"
           },
           "zaxis": {
            "backgroundcolor": "white",
            "gridcolor": "#DFE8F3",
            "gridwidth": 2,
            "linecolor": "#EBF0F8",
            "showbackground": true,
            "ticks": "",
            "zerolinecolor": "#EBF0F8"
           }
          },
          "shapedefaults": {
           "line": {
            "color": "#2a3f5f"
           }
          },
          "ternary": {
           "aaxis": {
            "gridcolor": "#DFE8F3",
            "linecolor": "#A2B1C6",
            "ticks": ""
           },
           "baxis": {
            "gridcolor": "#DFE8F3",
            "linecolor": "#A2B1C6",
            "ticks": ""
           },
           "bgcolor": "white",
           "caxis": {
            "gridcolor": "#DFE8F3",
            "linecolor": "#A2B1C6",
            "ticks": ""
           }
          },
          "title": {
           "x": 0.05
          },
          "xaxis": {
           "automargin": true,
           "gridcolor": "#EBF0F8",
           "linecolor": "#EBF0F8",
           "ticks": "",
           "title": {
            "standoff": 15
           },
           "zerolinecolor": "#EBF0F8",
           "zerolinewidth": 2
          },
          "yaxis": {
           "automargin": true,
           "gridcolor": "#EBF0F8",
           "linecolor": "#EBF0F8",
           "ticks": "",
           "title": {
            "standoff": 15
           },
           "zerolinecolor": "#EBF0F8",
           "zerolinewidth": 2
          }
         }
        },
        "width": 700,
        "xaxis": {
         "anchor": "y",
         "domain": [
          0,
          0.45
         ],
         "linecolor": "black",
         "linewidth": 2,
         "title": {
          "text": "epoch"
         }
        },
        "xaxis2": {
         "anchor": "y2",
         "domain": [
          0.55,
          1
         ],
         "linecolor": "black",
         "linewidth": 2,
         "title": {
          "text": "epoch"
         }
        },
        "yaxis": {
         "anchor": "x",
         "domain": [
          0,
          1
         ],
         "linecolor": "black",
         "linewidth": 2
        },
        "yaxis2": {
         "anchor": "x2",
         "domain": [
          0,
          1
         ],
         "linecolor": "black",
         "linewidth": 2
        }
       }
      },
      "text/html": [
       "<div>                            <div id=\"fbbc919c-fbad-4b9a-b26a-4f5564309bc2\" class=\"plotly-graph-div\" style=\"height:400px; width:700px;\"></div>            <script type=\"text/javascript\">                require([\"plotly\"], function(Plotly) {                    window.PLOTLYENV=window.PLOTLYENV || {};                                    if (document.getElementById(\"fbbc919c-fbad-4b9a-b26a-4f5564309bc2\")) {                    Plotly.newPlot(                        \"fbbc919c-fbad-4b9a-b26a-4f5564309bc2\",                        [{\"line\":{\"color\":\"#636EFA\"},\"mode\":\"lines\",\"name\":\"T\",\"showlegend\":true,\"x\":[0,8,16,24,32,40,48,56,64,72,80,88,96,104,112,120,128,136,144,152,160,168,176,184,192,200,208,216,224,232,240,248,256,264,272,280,288,296,304,312,320,328,336,344,352,360,368,376,384,392,400,408,416,424,432,440,448,456,464,472,480,488,496,504,512,520,528,536,544,552,560,568,576,584,592,600,608,616,624,632,640,648,656,664,672,680,688,696,704,712,720,728,736,744,752,760,768,776,784,792],\"y\":[0.0,0.001,0.003,0.007,0.011,0.018,0.017,0.035,0.042,0.07,0.079,0.098,0.109,0.087,0.118,0.144,0.134,0.153,0.185,0.191,0.173,0.188,0.231,0.226,0.22,0.225,0.236,0.264,0.257,0.232,0.302,0.285,0.272,0.25,0.288,0.291,0.319,0.278,0.296,0.33,0.333,0.324,0.334,0.33,0.329,0.313,0.35,0.356,0.329,0.372,0.332,0.336,0.348,0.347,0.35,0.374,0.358,0.375,0.339,0.358,0.359,0.372,0.369,0.36,0.341,0.382,0.397,0.371,0.37,0.387,0.379,0.362,0.393,0.379,0.397,0.397,0.371,0.403,0.349,0.379,0.41,0.397,0.362,0.402,0.416,0.393,0.389,0.415,0.401,0.373,0.38,0.371,0.405,0.402,0.403,0.395,0.42,0.398,0.417,0.372],\"type\":\"scatter\",\"xaxis\":\"x\",\"yaxis\":\"y\"},{\"line\":{\"color\":\"#636EFA\"},\"mode\":\"lines\",\"name\":\"T\",\"showlegend\":false,\"x\":[0,8,16,24,32,40,48,56,64,72,80,88,96,104,112,120,128,136,144,152,160,168,176,184,192,200,208,216,224,232,240,248,256,264,272,280,288,296,304,312,320,328,336,344,352,360,368,376,384,392,400,408,416,424,432,440,448,456,464,472,480,488,496,504,512,520,528,536,544,552,560,568,576,584,592,600,608,616,624,632,640,648,656,664,672,680,688,696,704,712,720,728,736,744,752,760,768,776,784,792],\"y\":[0.001,0.016,0.056,0.122,0.168,0.19,0.171,0.223,0.234,0.277,0.255,0.278,0.281,0.211,0.287,0.339,0.343,0.352,0.371,0.382,0.349,0.364,0.412,0.389,0.399,0.403,0.352,0.421,0.399,0.375,0.428,0.412,0.408,0.385,0.422,0.429,0.434,0.39,0.412,0.438,0.437,0.439,0.446,0.445,0.435,0.423,0.465,0.461,0.444,0.475,0.452,0.437,0.449,0.442,0.45,0.479,0.466,0.482,0.432,0.455,0.454,0.469,0.47,0.458,0.442,0.481,0.498,0.476,0.471,0.483,0.475,0.459,0.493,0.476,0.488,0.492,0.469,0.497,0.454,0.484,0.504,0.496,0.459,0.492,0.508,0.476,0.492,0.508,0.493,0.467,0.468,0.465,0.494,0.495,0.498,0.483,0.506,0.481,0.506,0.463],\"type\":\"scatter\",\"xaxis\":\"x2\",\"yaxis\":\"y2\"},{\"line\":{\"color\":\"#EF553B\"},\"mode\":\"lines\",\"name\":\"S + T\",\"showlegend\":true,\"x\":[0,8,16,24,32,40,48,56,64,72,80,88,96,104,112,120,128,136,144,152,160,168,176],\"y\":[0.007,0.058,0.076,0.072,0.149,0.162,0.195,0.219,0.237,0.257,0.301,0.299,0.287,0.327,0.279,0.319,0.346,0.31,0.354,0.345,0.341,0.326,0.366],\"type\":\"scatter\",\"xaxis\":\"x\",\"yaxis\":\"y\"},{\"line\":{\"color\":\"#EF553B\"},\"mode\":\"lines\",\"name\":\"S + T\",\"showlegend\":false,\"x\":[0,8,16,24,32,40,48,56,64,72,80,88,96,104,112,120,128,136,144,152,160,168,176],\"y\":[0.108,0.24,0.235,0.223,0.332,0.301,0.348,0.352,0.368,0.376,0.437,0.406,0.397,0.452,0.41,0.426,0.454,0.424,0.466,0.464,0.455,0.43,0.476],\"type\":\"scatter\",\"xaxis\":\"x2\",\"yaxis\":\"y2\"},{\"line\":{\"color\":\"#00CC96\"},\"mode\":\"lines\",\"name\":\"S\",\"showlegend\":true,\"x\":[0,8,16,24,32,40,48,56,64,72,80,88,96,104,112,120,128,136,144,152,160,168,176,184,192,200,208,216,224,232,240,248],\"y\":[0.0,0.001,0.003,0.004,0.003,0.004,0.021,0.015,0.016,0.032,0.03,0.015,0.03,0.048,0.036,0.068,0.031,0.033,0.029,0.055,0.045,0.055,0.033,0.067,0.075,0.051,0.076,0.06,0.045,0.061,0.052,0.054],\"type\":\"scatter\",\"xaxis\":\"x\",\"yaxis\":\"y\"},{\"line\":{\"color\":\"#00CC96\"},\"mode\":\"lines\",\"name\":\"S\",\"showlegend\":false,\"x\":[0,8,16,24,32,40,48,56,64,72,80,88,96,104,112,120,128,136,144,152,160,168,176,184,192,200,208,216,224,232,240,248],\"y\":[0.019,0.057,0.039,0.057,0.042,0.068,0.123,0.073,0.116,0.152,0.128,0.109,0.151,0.136,0.15,0.184,0.114,0.138,0.113,0.189,0.145,0.164,0.118,0.197,0.19,0.155,0.186,0.163,0.134,0.168,0.158,0.182],\"type\":\"scatter\",\"xaxis\":\"x2\",\"yaxis\":\"y2\"},{\"line\":{\"color\":\"#AB63FA\"},\"mode\":\"lines\",\"name\":\"shift-30-left\",\"showlegend\":true,\"x\":[0,8,16,24,32,40,48,56,64,72,80,88,96,104,112,120,128,136,144,152,160,168,176,184],\"y\":[0.005,0.025,0.039,0.066,0.112,0.186,0.146,0.229,0.228,0.273,0.277,0.252,0.264,0.286,0.303,0.317,0.336,0.306,0.33,0.327,0.363,0.327,0.34,0.391],\"type\":\"scatter\",\"xaxis\":\"x\",\"yaxis\":\"y\"},{\"line\":{\"color\":\"#AB63FA\"},\"mode\":\"lines\",\"name\":\"shift-30-left\",\"showlegend\":false,\"x\":[0,8,16,24,32,40,48,56,64,72,80,88,96,104,112,120,128,136,144,152,160,168,176,184],\"y\":[0.08,0.217,0.237,0.219,0.249,0.347,0.333,0.389,0.384,0.402,0.413,0.373,0.397,0.413,0.433,0.438,0.456,0.426,0.44,0.444,0.476,0.457,0.456,0.515],\"type\":\"scatter\",\"xaxis\":\"x2\",\"yaxis\":\"y2\"},{\"line\":{\"color\":\"#FFA15A\"},\"mode\":\"lines\",\"name\":\"shift-60-left\",\"showlegend\":true,\"x\":[0,8,16,24,32,40,48,56,64,72,80,88,96,104,112,120,128,136,144,152,160,168,176,184],\"y\":[0.007,0.014,0.04,0.083,0.117,0.139,0.145,0.1,0.21,0.258,0.221,0.231,0.241,0.272,0.281,0.259,0.31,0.309,0.298,0.298,0.339,0.3,0.303,0.315],\"type\":\"scatter\",\"xaxis\":\"x\",\"yaxis\":\"y\"},{\"line\":{\"color\":\"#FFA15A\"},\"mode\":\"lines\",\"name\":\"shift-60-left\",\"showlegend\":false,\"x\":[0,8,16,24,32,40,48,56,64,72,80,88,96,104,112,120,128,136,144,152,160,168,176,184],\"y\":[0.126,0.187,0.227,0.244,0.311,0.33,0.281,0.264,0.373,0.424,0.357,0.373,0.392,0.445,0.421,0.394,0.463,0.445,0.403,0.42,0.472,0.416,0.414,0.446],\"type\":\"scatter\",\"xaxis\":\"x2\",\"yaxis\":\"y2\"},{\"line\":{\"color\":\"#19D3F3\"},\"mode\":\"lines\",\"name\":\"shift-30-up\",\"showlegend\":true,\"x\":[0,8,16,24,32,40,48,56,64,72,80,88,96,104,112,120,128,136,144,152,160,168,176],\"y\":[0.005,0.03,0.068,0.088,0.127,0.132,0.177,0.17,0.235,0.289,0.279,0.29,0.252,0.31,0.327,0.353,0.319,0.361,0.356,0.339,0.367,0.394,0.371],\"type\":\"scatter\",\"xaxis\":\"x\",\"yaxis\":\"y\"},{\"line\":{\"color\":\"#19D3F3\"},\"mode\":\"lines\",\"name\":\"shift-30-up\",\"showlegend\":false,\"x\":[0,8,16,24,32,40,48,56,64,72,80,88,96,104,112,120,128,136,144,152,160,168,176],\"y\":[0.104,0.213,0.232,0.276,0.319,0.317,0.312,0.325,0.36,0.416,0.393,0.408,0.376,0.437,0.437,0.476,0.447,0.465,0.469,0.461,0.488,0.515,0.467],\"type\":\"scatter\",\"xaxis\":\"x2\",\"yaxis\":\"y2\"},{\"line\":{\"color\":\"#FF6692\"},\"mode\":\"lines\",\"name\":\"shift-60-up\",\"showlegend\":true,\"x\":[0,8,16,24,32,40,48,56,64,72,80,88,96,104,112,120,128,136,144,152,160,168,176,184],\"y\":[0.007,0.037,0.085,0.104,0.137,0.174,0.205,0.224,0.261,0.287,0.301,0.325,0.312,0.315,0.366,0.348,0.363,0.339,0.367,0.348,0.389,0.394,0.405,0.371],\"type\":\"scatter\",\"xaxis\":\"x\",\"yaxis\":\"y\"},{\"line\":{\"color\":\"#FF6692\"},\"mode\":\"lines\",\"name\":\"shift-60-up\",\"showlegend\":false,\"x\":[0,8,16,24,32,40,48,56,64,72,80,88,96,104,112,120,128,136,144,152,160,168,176,184],\"y\":[0.115,0.211,0.257,0.295,0.307,0.339,0.354,0.381,0.404,0.426,0.423,0.453,0.435,0.444,0.492,0.457,0.475,0.444,0.465,0.463,0.495,0.497,0.509,0.476],\"type\":\"scatter\",\"xaxis\":\"x2\",\"yaxis\":\"y2\"},{\"line\":{\"color\":\"#B6E880\"},\"mode\":\"lines\",\"name\":\"scale-20-up\",\"showlegend\":true,\"x\":[0,8,16,24,32,40,48,56,64,72,80,88,96,104,112,120,128,136,144,152,160,168,176,184],\"y\":[0.011,0.036,0.084,0.09,0.186,0.201,0.238,0.215,0.257,0.275,0.313,0.298,0.332,0.331,0.312,0.36,0.347,0.364,0.367,0.356,0.355,0.395,0.377,0.429],\"type\":\"scatter\",\"xaxis\":\"x\",\"yaxis\":\"y\"},{\"line\":{\"color\":\"#B6E880\"},\"mode\":\"lines\",\"name\":\"scale-20-up\",\"showlegend\":false,\"x\":[0,8,16,24,32,40,48,56,64,72,80,88,96,104,112,120,128,136,144,152,160,168,176,184],\"y\":[0.119,0.209,0.271,0.228,0.339,0.344,0.378,0.35,0.374,0.386,0.434,0.412,0.45,0.44,0.409,0.485,0.459,0.481,0.478,0.446,0.466,0.502,0.485,0.528],\"type\":\"scatter\",\"xaxis\":\"x2\",\"yaxis\":\"y2\"},{\"line\":{\"color\":\"#FF97FF\"},\"mode\":\"lines\",\"name\":\"scale-20-down\",\"showlegend\":true,\"x\":[0,8,16,24,32,40,48,56,64,72,80,88,96,104,112,120,128,136,144,152,160,168,176,184],\"y\":[0.008,0.026,0.066,0.108,0.113,0.172,0.217,0.199,0.2,0.237,0.254,0.27,0.275,0.272,0.252,0.301,0.267,0.347,0.314,0.344,0.32,0.349,0.318,0.361],\"type\":\"scatter\",\"xaxis\":\"x\",\"yaxis\":\"y\"},{\"line\":{\"color\":\"#FF97FF\"},\"mode\":\"lines\",\"name\":\"scale-20-down\",\"showlegend\":false,\"x\":[0,8,16,24,32,40,48,56,64,72,80,88,96,104,112,120,128,136,144,152,160,168,176,184],\"y\":[0.128,0.179,0.262,0.277,0.282,0.353,0.406,0.373,0.343,0.368,0.392,0.395,0.399,0.412,0.397,0.421,0.377,0.467,0.424,0.454,0.439,0.469,0.433,0.475],\"type\":\"scatter\",\"xaxis\":\"x2\",\"yaxis\":\"y2\"}],                        {\"template\":{\"data\":{\"barpolar\":[{\"marker\":{\"line\":{\"color\":\"white\",\"width\":0.5},\"pattern\":{\"fillmode\":\"overlay\",\"size\":10,\"solidity\":0.2}},\"type\":\"barpolar\"}],\"bar\":[{\"error_x\":{\"color\":\"#2a3f5f\"},\"error_y\":{\"color\":\"#2a3f5f\"},\"marker\":{\"line\":{\"color\":\"white\",\"width\":0.5},\"pattern\":{\"fillmode\":\"overlay\",\"size\":10,\"solidity\":0.2}},\"type\":\"bar\"}],\"carpet\":[{\"aaxis\":{\"endlinecolor\":\"#2a3f5f\",\"gridcolor\":\"#C8D4E3\",\"linecolor\":\"#C8D4E3\",\"minorgridcolor\":\"#C8D4E3\",\"startlinecolor\":\"#2a3f5f\"},\"baxis\":{\"endlinecolor\":\"#2a3f5f\",\"gridcolor\":\"#C8D4E3\",\"linecolor\":\"#C8D4E3\",\"minorgridcolor\":\"#C8D4E3\",\"startlinecolor\":\"#2a3f5f\"},\"type\":\"carpet\"}],\"choropleth\":[{\"colorbar\":{\"outlinewidth\":0,\"ticks\":\"\"},\"type\":\"choropleth\"}],\"contourcarpet\":[{\"colorbar\":{\"outlinewidth\":0,\"ticks\":\"\"},\"type\":\"contourcarpet\"}],\"contour\":[{\"colorbar\":{\"outlinewidth\":0,\"ticks\":\"\"},\"colorscale\":[[0.0,\"#0d0887\"],[0.1111111111111111,\"#46039f\"],[0.2222222222222222,\"#7201a8\"],[0.3333333333333333,\"#9c179e\"],[0.4444444444444444,\"#bd3786\"],[0.5555555555555556,\"#d8576b\"],[0.6666666666666666,\"#ed7953\"],[0.7777777777777778,\"#fb9f3a\"],[0.8888888888888888,\"#fdca26\"],[1.0,\"#f0f921\"]],\"type\":\"contour\"}],\"heatmapgl\":[{\"colorbar\":{\"outlinewidth\":0,\"ticks\":\"\"},\"colorscale\":[[0.0,\"#0d0887\"],[0.1111111111111111,\"#46039f\"],[0.2222222222222222,\"#7201a8\"],[0.3333333333333333,\"#9c179e\"],[0.4444444444444444,\"#bd3786\"],[0.5555555555555556,\"#d8576b\"],[0.6666666666666666,\"#ed7953\"],[0.7777777777777778,\"#fb9f3a\"],[0.8888888888888888,\"#fdca26\"],[1.0,\"#f0f921\"]],\"type\":\"heatmapgl\"}],\"heatmap\":[{\"colorbar\":{\"outlinewidth\":0,\"ticks\":\"\"},\"colorscale\":[[0.0,\"#0d0887\"],[0.1111111111111111,\"#46039f\"],[0.2222222222222222,\"#7201a8\"],[0.3333333333333333,\"#9c179e\"],[0.4444444444444444,\"#bd3786\"],[0.5555555555555556,\"#d8576b\"],[0.6666666666666666,\"#ed7953\"],[0.7777777777777778,\"#fb9f3a\"],[0.8888888888888888,\"#fdca26\"],[1.0,\"#f0f921\"]],\"type\":\"heatmap\"}],\"histogram2dcontour\":[{\"colorbar\":{\"outlinewidth\":0,\"ticks\":\"\"},\"colorscale\":[[0.0,\"#0d0887\"],[0.1111111111111111,\"#46039f\"],[0.2222222222222222,\"#7201a8\"],[0.3333333333333333,\"#9c179e\"],[0.4444444444444444,\"#bd3786\"],[0.5555555555555556,\"#d8576b\"],[0.6666666666666666,\"#ed7953\"],[0.7777777777777778,\"#fb9f3a\"],[0.8888888888888888,\"#fdca26\"],[1.0,\"#f0f921\"]],\"type\":\"histogram2dcontour\"}],\"histogram2d\":[{\"colorbar\":{\"outlinewidth\":0,\"ticks\":\"\"},\"colorscale\":[[0.0,\"#0d0887\"],[0.1111111111111111,\"#46039f\"],[0.2222222222222222,\"#7201a8\"],[0.3333333333333333,\"#9c179e\"],[0.4444444444444444,\"#bd3786\"],[0.5555555555555556,\"#d8576b\"],[0.6666666666666666,\"#ed7953\"],[0.7777777777777778,\"#fb9f3a\"],[0.8888888888888888,\"#fdca26\"],[1.0,\"#f0f921\"]],\"type\":\"histogram2d\"}],\"histogram\":[{\"marker\":{\"pattern\":{\"fillmode\":\"overlay\",\"size\":10,\"solidity\":0.2}},\"type\":\"histogram\"}],\"mesh3d\":[{\"colorbar\":{\"outlinewidth\":0,\"ticks\":\"\"},\"type\":\"mesh3d\"}],\"parcoords\":[{\"line\":{\"colorbar\":{\"outlinewidth\":0,\"ticks\":\"\"}},\"type\":\"parcoords\"}],\"pie\":[{\"automargin\":true,\"type\":\"pie\"}],\"scatter3d\":[{\"line\":{\"colorbar\":{\"outlinewidth\":0,\"ticks\":\"\"}},\"marker\":{\"colorbar\":{\"outlinewidth\":0,\"ticks\":\"\"}},\"type\":\"scatter3d\"}],\"scattercarpet\":[{\"marker\":{\"colorbar\":{\"outlinewidth\":0,\"ticks\":\"\"}},\"type\":\"scattercarpet\"}],\"scattergeo\":[{\"marker\":{\"colorbar\":{\"outlinewidth\":0,\"ticks\":\"\"}},\"type\":\"scattergeo\"}],\"scattergl\":[{\"marker\":{\"colorbar\":{\"outlinewidth\":0,\"ticks\":\"\"}},\"type\":\"scattergl\"}],\"scattermapbox\":[{\"marker\":{\"colorbar\":{\"outlinewidth\":0,\"ticks\":\"\"}},\"type\":\"scattermapbox\"}],\"scatterpolargl\":[{\"marker\":{\"colorbar\":{\"outlinewidth\":0,\"ticks\":\"\"}},\"type\":\"scatterpolargl\"}],\"scatterpolar\":[{\"marker\":{\"colorbar\":{\"outlinewidth\":0,\"ticks\":\"\"}},\"type\":\"scatterpolar\"}],\"scatter\":[{\"fillpattern\":{\"fillmode\":\"overlay\",\"size\":10,\"solidity\":0.2},\"type\":\"scatter\"}],\"scatterternary\":[{\"marker\":{\"colorbar\":{\"outlinewidth\":0,\"ticks\":\"\"}},\"type\":\"scatterternary\"}],\"surface\":[{\"colorbar\":{\"outlinewidth\":0,\"ticks\":\"\"},\"colorscale\":[[0.0,\"#0d0887\"],[0.1111111111111111,\"#46039f\"],[0.2222222222222222,\"#7201a8\"],[0.3333333333333333,\"#9c179e\"],[0.4444444444444444,\"#bd3786\"],[0.5555555555555556,\"#d8576b\"],[0.6666666666666666,\"#ed7953\"],[0.7777777777777778,\"#fb9f3a\"],[0.8888888888888888,\"#fdca26\"],[1.0,\"#f0f921\"]],\"type\":\"surface\"}],\"table\":[{\"cells\":{\"fill\":{\"color\":\"#EBF0F8\"},\"line\":{\"color\":\"white\"}},\"header\":{\"fill\":{\"color\":\"#C8D4E3\"},\"line\":{\"color\":\"white\"}},\"type\":\"table\"}]},\"layout\":{\"annotationdefaults\":{\"arrowcolor\":\"#2a3f5f\",\"arrowhead\":0,\"arrowwidth\":1},\"autotypenumbers\":\"strict\",\"coloraxis\":{\"colorbar\":{\"outlinewidth\":0,\"ticks\":\"\"}},\"colorscale\":{\"diverging\":[[0,\"#8e0152\"],[0.1,\"#c51b7d\"],[0.2,\"#de77ae\"],[0.3,\"#f1b6da\"],[0.4,\"#fde0ef\"],[0.5,\"#f7f7f7\"],[0.6,\"#e6f5d0\"],[0.7,\"#b8e186\"],[0.8,\"#7fbc41\"],[0.9,\"#4d9221\"],[1,\"#276419\"]],\"sequential\":[[0.0,\"#0d0887\"],[0.1111111111111111,\"#46039f\"],[0.2222222222222222,\"#7201a8\"],[0.3333333333333333,\"#9c179e\"],[0.4444444444444444,\"#bd3786\"],[0.5555555555555556,\"#d8576b\"],[0.6666666666666666,\"#ed7953\"],[0.7777777777777778,\"#fb9f3a\"],[0.8888888888888888,\"#fdca26\"],[1.0,\"#f0f921\"]],\"sequentialminus\":[[0.0,\"#0d0887\"],[0.1111111111111111,\"#46039f\"],[0.2222222222222222,\"#7201a8\"],[0.3333333333333333,\"#9c179e\"],[0.4444444444444444,\"#bd3786\"],[0.5555555555555556,\"#d8576b\"],[0.6666666666666666,\"#ed7953\"],[0.7777777777777778,\"#fb9f3a\"],[0.8888888888888888,\"#fdca26\"],[1.0,\"#f0f921\"]]},\"colorway\":[\"#636efa\",\"#EF553B\",\"#00cc96\",\"#ab63fa\",\"#FFA15A\",\"#19d3f3\",\"#FF6692\",\"#B6E880\",\"#FF97FF\",\"#FECB52\"],\"font\":{\"color\":\"#2a3f5f\"},\"geo\":{\"bgcolor\":\"white\",\"lakecolor\":\"white\",\"landcolor\":\"white\",\"showlakes\":true,\"showland\":true,\"subunitcolor\":\"#C8D4E3\"},\"hoverlabel\":{\"align\":\"left\"},\"hovermode\":\"closest\",\"mapbox\":{\"style\":\"light\"},\"paper_bgcolor\":\"white\",\"plot_bgcolor\":\"white\",\"polar\":{\"angularaxis\":{\"gridcolor\":\"#EBF0F8\",\"linecolor\":\"#EBF0F8\",\"ticks\":\"\"},\"bgcolor\":\"white\",\"radialaxis\":{\"gridcolor\":\"#EBF0F8\",\"linecolor\":\"#EBF0F8\",\"ticks\":\"\"}},\"scene\":{\"xaxis\":{\"backgroundcolor\":\"white\",\"gridcolor\":\"#DFE8F3\",\"gridwidth\":2,\"linecolor\":\"#EBF0F8\",\"showbackground\":true,\"ticks\":\"\",\"zerolinecolor\":\"#EBF0F8\"},\"yaxis\":{\"backgroundcolor\":\"white\",\"gridcolor\":\"#DFE8F3\",\"gridwidth\":2,\"linecolor\":\"#EBF0F8\",\"showbackground\":true,\"ticks\":\"\",\"zerolinecolor\":\"#EBF0F8\"},\"zaxis\":{\"backgroundcolor\":\"white\",\"gridcolor\":\"#DFE8F3\",\"gridwidth\":2,\"linecolor\":\"#EBF0F8\",\"showbackground\":true,\"ticks\":\"\",\"zerolinecolor\":\"#EBF0F8\"}},\"shapedefaults\":{\"line\":{\"color\":\"#2a3f5f\"}},\"ternary\":{\"aaxis\":{\"gridcolor\":\"#DFE8F3\",\"linecolor\":\"#A2B1C6\",\"ticks\":\"\"},\"baxis\":{\"gridcolor\":\"#DFE8F3\",\"linecolor\":\"#A2B1C6\",\"ticks\":\"\"},\"bgcolor\":\"white\",\"caxis\":{\"gridcolor\":\"#DFE8F3\",\"linecolor\":\"#A2B1C6\",\"ticks\":\"\"}},\"title\":{\"x\":0.05},\"xaxis\":{\"automargin\":true,\"gridcolor\":\"#EBF0F8\",\"linecolor\":\"#EBF0F8\",\"ticks\":\"\",\"title\":{\"standoff\":15},\"zerolinecolor\":\"#EBF0F8\",\"zerolinewidth\":2},\"yaxis\":{\"automargin\":true,\"gridcolor\":\"#EBF0F8\",\"linecolor\":\"#EBF0F8\",\"ticks\":\"\",\"title\":{\"standoff\":15},\"zerolinecolor\":\"#EBF0F8\",\"zerolinewidth\":2}}},\"xaxis\":{\"anchor\":\"y\",\"domain\":[0.0,0.45],\"linewidth\":2,\"linecolor\":\"black\",\"title\":{\"text\":\"epoch\"}},\"yaxis\":{\"anchor\":\"x\",\"domain\":[0.0,1.0],\"linewidth\":2,\"linecolor\":\"black\"},\"xaxis2\":{\"anchor\":\"y2\",\"domain\":[0.55,1.0],\"linewidth\":2,\"linecolor\":\"black\",\"title\":{\"text\":\"epoch\"}},\"yaxis2\":{\"anchor\":\"x2\",\"domain\":[0.0,1.0],\"linewidth\":2,\"linecolor\":\"black\"},\"annotations\":[{\"font\":{\"size\":16},\"showarrow\":false,\"text\":\"Target AP\",\"x\":0.225,\"xanchor\":\"center\",\"xref\":\"paper\",\"y\":1.0,\"yanchor\":\"bottom\",\"yref\":\"paper\"},{\"font\":{\"size\":16},\"showarrow\":false,\"text\":\"Target AR\",\"x\":0.775,\"xanchor\":\"center\",\"xref\":\"paper\",\"y\":1.0,\"yanchor\":\"bottom\",\"yref\":\"paper\"}],\"legend\":{\"orientation\":\"h\",\"x\":0.1,\"y\":1.45},\"margin\":{\"t\":50,\"l\":30,\"b\":30,\"r\":10},\"width\":700,\"height\":400},                        {\"responsive\": true}                    ).then(function(){\n",
       "                            \n",
       "var gd = document.getElementById('fbbc919c-fbad-4b9a-b26a-4f5564309bc2');\n",
       "var x = new MutationObserver(function (mutations, observer) {{\n",
       "        var display = window.getComputedStyle(gd).display;\n",
       "        if (!display || display === 'none') {{\n",
       "            console.log([gd, 'removed!']);\n",
       "            Plotly.purge(gd);\n",
       "            observer.disconnect();\n",
       "        }}\n",
       "}});\n",
       "\n",
       "// Listen for the removal of the full notebook cells\n",
       "var notebookContainer = gd.closest('#notebook-container');\n",
       "if (notebookContainer) {{\n",
       "    x.observe(notebookContainer, {childList: true});\n",
       "}}\n",
       "\n",
       "// Listen for the clearing of the current output cell\n",
       "var outputEl = gd.closest('.output');\n",
       "if (outputEl) {{\n",
       "    x.observe(outputEl, {childList: true});\n",
       "}}\n",
       "\n",
       "                        })                };                });            </script>        </div>"
      ]
     },
     "metadata": {},
     "output_type": "display_data"
    }
   ],
   "source": [
    "fig.update_layout(width=700, height=400, template=\"plotly_white\", legend=dict(orientation=\"h\", x=0.1, y=1.45), margin=dict(t=50, l=30, b=30, r=10))\n",
    "fig.update_xaxes(linewidth=2, linecolor=\"black\", title=\"epoch\")\n",
    "fig.update_yaxes(linewidth=2, linecolor=\"black\")"
   ]
  },
  {
   "cell_type": "code",
   "execution_count": null,
   "metadata": {},
   "outputs": [],
   "source": []
  }
 ],
 "metadata": {
  "interpreter": {
   "hash": "a1fbd81b1948db4ad2c9759b314da344b172db15f8026cdb0f8ec083c593f3fc"
  },
  "kernelspec": {
   "display_name": "Python 3.7.11 ('label-translation')",
   "language": "python",
   "name": "python3"
  },
  "language_info": {
   "codemirror_mode": {
    "name": "ipython",
    "version": 3
   },
   "file_extension": ".py",
   "mimetype": "text/x-python",
   "name": "python",
   "nbconvert_exporter": "python",
   "pygments_lexer": "ipython3",
   "version": "3.7.11"
  },
  "orig_nbformat": 4
 },
 "nbformat": 4,
 "nbformat_minor": 2
}
